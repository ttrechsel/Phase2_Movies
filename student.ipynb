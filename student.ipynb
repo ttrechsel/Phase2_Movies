{
 "cells": [
  {
   "cell_type": "markdown",
   "metadata": {},
   "source": [
    "## Final Project Submission\n",
    "\n",
    "Please fill out:\n",
    "* Student name: Tristan Trechsel, Irwin Lam, Gavin Martin\n",
    "* Student pace: self paced / part time / *full time*\n",
    "* Scheduled project review date/time: 9/15/23 3:30PM\n",
    "* Instructor name: David Elliott\n",
    "* Blog post URL: Submitted individually\n"
   ]
  }
 ],
 "metadata": {
  "kernelspec": {
   "display_name": "Python 3",
   "language": "python",
   "name": "python3"
  },
  "language_info": {
   "codemirror_mode": {
    "name": "ipython",
    "version": 3
   },
   "file_extension": ".py",
   "mimetype": "text/x-python",
   "name": "python",
   "nbconvert_exporter": "python",
   "pygments_lexer": "ipython3",
   "version": "3.8.5"
  }
 },
 "nbformat": 4,
 "nbformat_minor": 2
}
